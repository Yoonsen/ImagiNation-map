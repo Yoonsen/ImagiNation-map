{
 "cells": [
  {
   "cell_type": "code",
   "execution_count": 1,
   "id": "ca36c81a-c2f1-46be-8fd0-37dc20557b41",
   "metadata": {},
   "outputs": [],
   "source": [
    "import pandas as pd\n",
    "import dhlab as dh\n",
    "import tools_imag as ti\n",
    "import dhlab.api.dhlab_api as api\n",
    "import requests\n",
    "from io import StringIO"
   ]
  },
  {
   "cell_type": "code",
   "execution_count": 3,
   "id": "3e7813d9-3d14-45a4-a0ef-095516cf6812",
   "metadata": {},
   "outputs": [],
   "source": [
    "def geo_locations_corpus(dhlabids):\n",
    "    res = requests.post(f\"{dh.constants.BASE_URL}/imagination_geo_data_list\", json={\"dhlabids\":list(dhlabids)})\n",
    "    if res.status_code == 200:\n",
    "        data = pd.read_json(StringIO(res.text))\n",
    "    else:\n",
    "        print(res.status_code)\n",
    "        data = pd.DataFrame()\n",
    "    return data"
   ]
  },
  {
   "cell_type": "code",
   "execution_count": 2,
   "id": "20393a06-e55b-4b8e-bccb-52dcba875e96",
   "metadata": {},
   "outputs": [],
   "source": [
    "df = pd.read_excel('imag_korpus.xlsx', index_col = 0)"
   ]
  },
  {
   "cell_type": "code",
   "execution_count": 3,
   "id": "e8db88b7-53ff-4dd1-9289-17c47dea0ed6",
   "metadata": {},
   "outputs": [
    {
     "data": {
      "text/plain": [
       "Index(['author', 'category', 'oversatt', 'place', 'publisher', 'title', 'urn',\n",
       "       'year', 'dhlabid'],\n",
       "      dtype='object')"
      ]
     },
     "execution_count": 3,
     "metadata": {},
     "output_type": "execute_result"
    }
   ],
   "source": [
    "df.columns"
   ]
  },
  {
   "cell_type": "code",
   "execution_count": 4,
   "id": "a34d9630-f399-4ada-a8fc-57b0955490f0",
   "metadata": {},
   "outputs": [
    {
     "data": {
      "text/plain": [
       "array([['Lie, Mons', 'Diktning: Dramatikk', 0, 'Christiania',\n",
       "        'I Kommission hos Swanström', 'Tragedier om Kjærlighed',\n",
       "        'URN:NBN:no-nb_digibok_2006111601016', 1897, 100614395],\n",
       "       ['Strindberg, August', 'Diktning: Dramatikk', 0, 'Kjøbenhavn',\n",
       "        'Gyldendal', 'Erik XIV : Skuespil i fire Akter',\n",
       "        'URN:NBN:no-nb_digibok_2009040203010', 1899, 100637671]],\n",
       "      dtype=object)"
      ]
     },
     "execution_count": 4,
     "metadata": {},
     "output_type": "execute_result"
    }
   ],
   "source": [
    "df.sample(2).values"
   ]
  },
  {
   "cell_type": "code",
   "execution_count": 5,
   "id": "49ebc075-ca3b-4bcd-bd99-f4c376d965e0",
   "metadata": {},
   "outputs": [],
   "source": [
    "places_corpus = df.sample(min(10, len(df)))\n",
    "\n",
    "places = ti.geo_locations_corpus(places_corpus.dhlabid)"
   ]
  },
  {
   "cell_type": "code",
   "execution_count": 7,
   "id": "57a7a728-c87e-4543-8ec5-b1674a3a36fa",
   "metadata": {},
   "outputs": [
    {
     "data": {
      "text/plain": [
       "Index(['index', 'dhlabid', 'token', 'frekv', 'rank', 'score', 'geonameid',\n",
       "       'name', 'alternatename', 'latitude', 'longitude', 'feature_class',\n",
       "       'feature_code', 'spurious'],\n",
       "      dtype='object')"
      ]
     },
     "execution_count": 7,
     "metadata": {},
     "output_type": "execute_result"
    }
   ],
   "source": [
    "places.columns"
   ]
  },
  {
   "cell_type": "code",
   "execution_count": 8,
   "id": "d959e667-30ea-4456-990f-3169e89c3a87",
   "metadata": {},
   "outputs": [
    {
     "data": {
      "text/plain": [
       "array([[14242, 100614969, 'Bergen', 1, 1, 0.6659141498000001, 3161733,\n",
       "        'Bergen', 'Bergen', 60.392, 5.328, 'A', 'ADM2', 0],\n",
       "       [14243, 100614969, 'Jeru', 1, 1, 0.6000000000000001, 6773104,\n",
       "        'Jeru', 'Jeru', -7.9934, 112.7612, 'P', 'PPL', 0]], dtype=object)"
      ]
     },
     "execution_count": 8,
     "metadata": {},
     "output_type": "execute_result"
    }
   ],
   "source": [
    "places.values[:2]"
   ]
  },
  {
   "cell_type": "code",
   "execution_count": 10,
   "id": "61741964-d05e-4cac-8d60-c2c570667254",
   "metadata": {},
   "outputs": [
    {
     "data": {
      "text/plain": [
       "array([[14242, 100614969, 'Bergen', 1, 1, 0.6659141498000001, 3161733,\n",
       "        'Bergen', 'Bergen', 60.392, 5.328, 'A', 'ADM2', 0],\n",
       "       [69470, 100624342, 'Bergen', 1, 1, 0.8435832388000001, 3161733,\n",
       "        'Bergen', 'Bergen', 60.392, 5.328, 'A', 'ADM2', 0],\n",
       "       [405856, 100618347, 'Bergen', 3, 1, 0.8658194749, 3161733,\n",
       "        'Bergen', 'Bergen', 60.392, 5.328, 'A', 'ADM2', 0],\n",
       "       [251052, 100635886, 'Bergen', 7, 1, 1.0690449850000001, 3161733,\n",
       "        'Bergen', 'Bergen', 60.392, 5.328, 'A', 'ADM2', 0],\n",
       "       [894196, 100632576, 'Bergen', 10, 1, 1.6659141499999999, 3161733,\n",
       "        'Bergen', 'Bergen', 60.392, 5.328, 'A', 'ADM2', 0],\n",
       "       [596702, 100617408, 'Bergen', 13, 1, 0.9742796653, 3161733,\n",
       "        'Bergen', 'Bergen', 60.392, 5.328, 'A', 'ADM2', 0]], dtype=object)"
      ]
     },
     "execution_count": 10,
     "metadata": {},
     "output_type": "execute_result"
    }
   ],
   "source": [
    "places[places.token==\"Bergen\"].values"
   ]
  },
  {
   "cell_type": "code",
   "execution_count": 13,
   "id": "36b6af59-0d08-40d8-808a-b8f038b05e97",
   "metadata": {},
   "outputs": [],
   "source": [
    "def calculate_place_stats(places_data):\n",
    "    \"\"\"Calculate frequency and dispersion metrics for places\"\"\"\n",
    "    # Group by place name to combine statistics\n",
    "    place_stats = {}\n",
    "    \n",
    "    for name, group in places_data.groupby('name'):\n",
    "        total_freq = group['frekv'].sum()\n",
    "        docs = set(group['dhlabid'])\n",
    "        dispersion = len(docs) / len(places_data['dhlabid'].unique())\n",
    "        score = total_freq * dispersion\n",
    "        \n",
    "        place_stats[name] = {\n",
    "            'freq': total_freq,\n",
    "            'docs': docs,\n",
    "            'dispersion': dispersion,\n",
    "            'score': score,\n",
    "            'lat': group['latitude'].iloc[0],\n",
    "            'lon': group['longitude'].iloc[0],\n",
    "            'token': group['token'].iloc[0]\n",
    "        }\n",
    "    \n",
    "    return place_stats\n",
    "    \n",
    "def preprocess_places(corpus_df):\n",
    "    \"\"\"Create a preprocessed places file with all statistics\"\"\"\n",
    "    all_places = ti.geo_locations_corpus(corpus_df.dhlabid)\n",
    "    all_places = all_places[all_places['rank']==1]\n",
    "    \n",
    "    place_stats = calculate_place_stats(all_places)\n",
    "    \n",
    "    # Convert to DataFrame for easier storage/loading\n",
    "    places_df = pd.DataFrame([\n",
    "        {\n",
    "            'name': name,\n",
    "            'token': stats['token'],\n",
    "            'freq': stats['freq'],\n",
    "            'dispersion': stats['dispersion'],\n",
    "            'score': stats['score'],\n",
    "            'lat': stats['lat'],\n",
    "            'lon': stats['lon'],\n",
    "            'docs': list(stats['docs'])  # Convert set to list for storage\n",
    "        }\n",
    "        for name, stats in place_stats.items()\n",
    "    ])\n",
    "    \n",
    "    places_df.to_pickle('preprocessed_places.pkl')\n",
    "    return places_df"
   ]
  },
  {
   "cell_type": "code",
   "execution_count": 12,
   "id": "c7d4614c-eb97-4870-bb0e-fddcdc080cc1",
   "metadata": {},
   "outputs": [
    {
     "ename": "NameError",
     "evalue": "name 'calculate_place_stats' is not defined",
     "output_type": "error",
     "traceback": [
      "\u001b[0;31m---------------------------------------------------------------------------\u001b[0m",
      "\u001b[0;31mNameError\u001b[0m                                 Traceback (most recent call last)",
      "Cell \u001b[0;32mIn[12], line 1\u001b[0m\n\u001b[0;32m----> 1\u001b[0m \u001b[43mpreprocess_places\u001b[49m\u001b[43m(\u001b[49m\u001b[43mdf\u001b[49m\u001b[43m)\u001b[49m\n",
      "Cell \u001b[0;32mIn[11], line 6\u001b[0m, in \u001b[0;36mpreprocess_places\u001b[0;34m(corpus_df)\u001b[0m\n\u001b[1;32m      3\u001b[0m all_places \u001b[38;5;241m=\u001b[39m ti\u001b[38;5;241m.\u001b[39mgeo_locations_corpus(corpus_df\u001b[38;5;241m.\u001b[39mdhlabid)\n\u001b[1;32m      4\u001b[0m all_places \u001b[38;5;241m=\u001b[39m all_places[all_places[\u001b[38;5;124m'\u001b[39m\u001b[38;5;124mrank\u001b[39m\u001b[38;5;124m'\u001b[39m]\u001b[38;5;241m==\u001b[39m\u001b[38;5;241m1\u001b[39m]\n\u001b[0;32m----> 6\u001b[0m place_stats \u001b[38;5;241m=\u001b[39m \u001b[43mcalculate_place_stats\u001b[49m(all_places)\n\u001b[1;32m      8\u001b[0m \u001b[38;5;66;03m# Convert to DataFrame for easier storage/loading\u001b[39;00m\n\u001b[1;32m      9\u001b[0m places_df \u001b[38;5;241m=\u001b[39m pd\u001b[38;5;241m.\u001b[39mDataFrame([\n\u001b[1;32m     10\u001b[0m     {\n\u001b[1;32m     11\u001b[0m         \u001b[38;5;124m'\u001b[39m\u001b[38;5;124mname\u001b[39m\u001b[38;5;124m'\u001b[39m: name,\n\u001b[0;32m   (...)\u001b[0m\n\u001b[1;32m     20\u001b[0m     \u001b[38;5;28;01mfor\u001b[39;00m name, stats \u001b[38;5;129;01min\u001b[39;00m place_stats\u001b[38;5;241m.\u001b[39mitems()\n\u001b[1;32m     21\u001b[0m ])\n",
      "\u001b[0;31mNameError\u001b[0m: name 'calculate_place_stats' is not defined"
     ]
    }
   ],
   "source": []
  }
 ],
 "metadata": {
  "kernelspec": {
   "display_name": "Python 3 (ipykernel)",
   "language": "python",
   "name": "python3"
  },
  "language_info": {
   "codemirror_mode": {
    "name": "ipython",
    "version": 3
   },
   "file_extension": ".py",
   "mimetype": "text/x-python",
   "name": "python",
   "nbconvert_exporter": "python",
   "pygments_lexer": "ipython3",
   "version": "3.11.5"
  }
 },
 "nbformat": 4,
 "nbformat_minor": 5
}
