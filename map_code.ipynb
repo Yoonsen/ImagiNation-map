{
 "cells": [
  {
   "cell_type": "code",
   "execution_count": 1,
   "id": "ca36c81a-c2f1-46be-8fd0-37dc20557b41",
   "metadata": {},
   "outputs": [],
   "source": [
    "import pandas as pd\n",
    "import dhlab as dh\n",
    "import tools_imag as ti\n",
    "import dhlab.api.dhlab_api as api\n",
    "import requests\n",
    "from io import StringIO"
   ]
  },
  {
   "cell_type": "code",
   "execution_count": 3,
   "id": "3e7813d9-3d14-45a4-a0ef-095516cf6812",
   "metadata": {},
   "outputs": [],
   "source": [
    "def geo_locations_corpus(dhlabids):\n",
    "    res = requests.post(f\"{dh.constants.BASE_URL}/imagination_geo_data_list\", json={\"dhlabids\":list(dhlabids)})\n",
    "    if res.status_code == 200:\n",
    "        data = pd.read_json(StringIO(res.text))\n",
    "    else:\n",
    "        print(res.status_code)\n",
    "        data = pd.DataFrame()\n",
    "    return data"
   ]
  },
  {
   "cell_type": "code",
   "execution_count": 2,
   "id": "20393a06-e55b-4b8e-bccb-52dcba875e96",
   "metadata": {},
   "outputs": [],
   "source": [
    "df = pd.read_excel('imag_korpus.xlsx', index_col = 0)"
   ]
  },
  {
   "cell_type": "code",
   "execution_count": 3,
   "id": "e8db88b7-53ff-4dd1-9289-17c47dea0ed6",
   "metadata": {},
   "outputs": [
    {
     "data": {
      "text/plain": [
       "Index(['author', 'category', 'oversatt', 'place', 'publisher', 'title', 'urn',\n",
       "       'year', 'dhlabid'],\n",
       "      dtype='object')"
      ]
     },
     "execution_count": 3,
     "metadata": {},
     "output_type": "execute_result"
    }
   ],
   "source": [
    "df.columns"
   ]
  },
  {
   "cell_type": "code",
   "execution_count": 4,
   "id": "a34d9630-f399-4ada-a8fc-57b0955490f0",
   "metadata": {},
   "outputs": [
    {
     "data": {
      "text/plain": [
       "array([['Lie, Mons', 'Diktning: Dramatikk', 0, 'Christiania',\n",
       "        'I Kommission hos Swanström', 'Tragedier om Kjærlighed',\n",
       "        'URN:NBN:no-nb_digibok_2006111601016', 1897, 100614395],\n",
       "       ['Strindberg, August', 'Diktning: Dramatikk', 0, 'Kjøbenhavn',\n",
       "        'Gyldendal', 'Erik XIV : Skuespil i fire Akter',\n",
       "        'URN:NBN:no-nb_digibok_2009040203010', 1899, 100637671]],\n",
       "      dtype=object)"
      ]
     },
     "execution_count": 4,
     "metadata": {},
     "output_type": "execute_result"
    }
   ],
   "source": [
    "df.sample(2).values"
   ]
  },
  {
   "cell_type": "code",
   "execution_count": 5,
   "id": "49ebc075-ca3b-4bcd-bd99-f4c376d965e0",
   "metadata": {},
   "outputs": [],
   "source": [
    "places_corpus = df.sample(min(10, len(df)))\n",
    "\n",
    "places = ti.geo_locations_corpus(places_corpus.dhlabid)"
   ]
  },
  {
   "cell_type": "code",
   "execution_count": 7,
   "id": "57a7a728-c87e-4543-8ec5-b1674a3a36fa",
   "metadata": {},
   "outputs": [
    {
     "data": {
      "text/plain": [
       "Index(['index', 'dhlabid', 'token', 'frekv', 'rank', 'score', 'geonameid',\n",
       "       'name', 'alternatename', 'latitude', 'longitude', 'feature_class',\n",
       "       'feature_code', 'spurious'],\n",
       "      dtype='object')"
      ]
     },
     "execution_count": 7,
     "metadata": {},
     "output_type": "execute_result"
    }
   ],
   "source": [
    "places.columns"
   ]
  },
  {
   "cell_type": "code",
   "execution_count": 8,
   "id": "d959e667-30ea-4456-990f-3169e89c3a87",
   "metadata": {},
   "outputs": [
    {
     "data": {
      "text/plain": [
       "array([[14242, 100614969, 'Bergen', 1, 1, 0.6659141498000001, 3161733,\n",
       "        'Bergen', 'Bergen', 60.392, 5.328, 'A', 'ADM2', 0],\n",
       "       [14243, 100614969, 'Jeru', 1, 1, 0.6000000000000001, 6773104,\n",
       "        'Jeru', 'Jeru', -7.9934, 112.7612, 'P', 'PPL', 0]], dtype=object)"
      ]
     },
     "execution_count": 8,
     "metadata": {},
     "output_type": "execute_result"
    }
   ],
   "source": [
    "places.values[:2]"
   ]
  }
 ],
 "metadata": {
  "kernelspec": {
   "display_name": "Python 3 (ipykernel)",
   "language": "python",
   "name": "python3"
  },
  "language_info": {
   "codemirror_mode": {
    "name": "ipython",
    "version": 3
   },
   "file_extension": ".py",
   "mimetype": "text/x-python",
   "name": "python",
   "nbconvert_exporter": "python",
   "pygments_lexer": "ipython3",
   "version": "3.11.5"
  }
 },
 "nbformat": 4,
 "nbformat_minor": 5
}
